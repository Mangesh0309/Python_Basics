{
  "nbformat": 4,
  "nbformat_minor": 0,
  "metadata": {
    "colab": {
      "provenance": [],
      "authorship_tag": "ABX9TyN+52O7wKwlPMFHj8lXpBhU"
    },
    "kernelspec": {
      "name": "python3",
      "display_name": "Python 3"
    },
    "language_info": {
      "name": "python"
    }
  },
  "cells": [
    {
      "cell_type": "markdown",
      "source": [
        "#Theory Questions\n",
        "1.  What is the difference between a function and a\n",
        "      method in Python\n",
        "  - A function is a block of code that performs a task and can be used independently.\n",
        "A method is also a function, but it is tied to an object\n",
        "  - example\n"
      ],
      "metadata": {
        "id": "q5CAs5ZfK-HH"
      }
    },
    {
      "cell_type": "code",
      "source": [
        "# Function\n",
        "def add(a, b):\n",
        "    return a + b\n",
        "\n",
        "print(add(2, 3))\n",
        "\n",
        "# Method\n",
        "text = \"hello\"\n",
        "print(text.upper())\n"
      ],
      "metadata": {
        "colab": {
          "base_uri": "https://localhost:8080/"
        },
        "id": "Zj4I3_IyMk1H",
        "outputId": "6fff44e9-195c-497d-d768-511838c1ca68"
      },
      "execution_count": null,
      "outputs": [
        {
          "output_type": "stream",
          "name": "stdout",
          "text": [
            "5\n",
            "HELLO\n"
          ]
        }
      ]
    },
    {
      "cell_type": "markdown",
      "source": [
        "2. Explain the concept of function arguments and parameters in Python\n",
        "  - Parameters are the names listed in a function’s definition.\n",
        "\n",
        "  - Arguments are the actual values you pass to the function when calling it.\n",
        "  "
      ],
      "metadata": {
        "id": "GUzJ67QBM0vi"
      }
    },
    {
      "cell_type": "code",
      "source": [
        "def greet(name):   # 'name' is a parameter\n",
        "    print(\"Hello\", name)\n",
        "\n",
        "greet(\"Mangesh\")   # \"Mangesh\" is an argument\n"
      ],
      "metadata": {
        "colab": {
          "base_uri": "https://localhost:8080/"
        },
        "id": "VjaGRHIEM_bH",
        "outputId": "1b06cefb-e6ff-4acf-a44b-20c9adcc3d45"
      },
      "execution_count": null,
      "outputs": [
        {
          "output_type": "stream",
          "name": "stdout",
          "text": [
            "Hello Mangesh\n"
          ]
        }
      ]
    },
    {
      "cell_type": "markdown",
      "source": [
        "3.  What are the different ways to define and call a function in Python\n",
        "  - Simple Function\n"
      ],
      "metadata": {
        "id": "ifMISMBjNE_A"
      }
    },
    {
      "cell_type": "code",
      "source": [
        "def hello():\n",
        "    print(\"Hello World\")\n",
        "\n",
        "hello()   # calling\n"
      ],
      "metadata": {
        "colab": {
          "base_uri": "https://localhost:8080/"
        },
        "id": "xhtnB8xSNbOu",
        "outputId": "0553ba20-28dd-41ed-da9a-593b86752255"
      },
      "execution_count": null,
      "outputs": [
        {
          "output_type": "stream",
          "name": "stdout",
          "text": [
            "Hello World\n"
          ]
        }
      ]
    },
    {
      "cell_type": "markdown",
      "source": [
        "- Function with parameters\n"
      ],
      "metadata": {
        "id": "pFRuAQAwNc26"
      }
    },
    {
      "cell_type": "code",
      "source": [
        "def add(a, b):\n",
        "    return a + b\n",
        "\n",
        "print(add(5, 3))   # calling with arguments\n"
      ],
      "metadata": {
        "colab": {
          "base_uri": "https://localhost:8080/"
        },
        "id": "FsfTy0L9NhqV",
        "outputId": "b035ecef-2cf7-426b-d26e-5c0a8a08a153"
      },
      "execution_count": null,
      "outputs": [
        {
          "output_type": "stream",
          "name": "stdout",
          "text": [
            "8\n"
          ]
        }
      ]
    },
    {
      "cell_type": "markdown",
      "source": [
        "- Functiom with default parameters"
      ],
      "metadata": {
        "id": "1dHeHWNINkLe"
      }
    },
    {
      "cell_type": "code",
      "source": [
        "def greet(name=\"Guest\"):\n",
        "    print(\"Hello\", name)\n",
        "\n",
        "greet()          # Hello Guest\n",
        "greet(\"Mangesh\") # Hello Mangesh\n"
      ],
      "metadata": {
        "colab": {
          "base_uri": "https://localhost:8080/"
        },
        "id": "Cgn9VLjUNo8l",
        "outputId": "40a1f6ee-687f-44e6-b1f2-d3696f38ba5b"
      },
      "execution_count": null,
      "outputs": [
        {
          "output_type": "stream",
          "name": "stdout",
          "text": [
            "Hello Guest\n",
            "Hello Mangesh\n"
          ]
        }
      ]
    },
    {
      "cell_type": "markdown",
      "source": [
        "- Lambda function"
      ],
      "metadata": {
        "id": "uBK62QRGNtPH"
      }
    },
    {
      "cell_type": "code",
      "source": [
        "square = lambda x: x*x\n",
        "print(square(4))   # 16\n"
      ],
      "metadata": {
        "colab": {
          "base_uri": "https://localhost:8080/"
        },
        "id": "OdzNkMdRNwmG",
        "outputId": "d709c13a-e18e-4e03-97f9-43ccdace3a4e"
      },
      "execution_count": null,
      "outputs": [
        {
          "output_type": "stream",
          "name": "stdout",
          "text": [
            "16\n"
          ]
        }
      ]
    },
    {
      "cell_type": "markdown",
      "source": [
        "4. What is the purpose of the `return` statement in a Python function\n",
        "  - The return statement is used to send a value back from a function to the caller.\n",
        "Without return, a function just runs but gives nothing back (it returns None by default).\n",
        "  - return makes a function produce an output that you can store or use later.\n"
      ],
      "metadata": {
        "id": "5OpQk-aQNyQk"
      }
    },
    {
      "cell_type": "code",
      "source": [
        "def add(a, b):\n",
        "    return a + b   # sends result back\n",
        "\n",
        "result = add(5, 3)\n",
        "print(result)   # 8\n"
      ],
      "metadata": {
        "colab": {
          "base_uri": "https://localhost:8080/"
        },
        "id": "p840TCa8OBDR",
        "outputId": "1e1b94ec-69c4-4b4b-bfcf-7dc3e867519e"
      },
      "execution_count": null,
      "outputs": [
        {
          "output_type": "stream",
          "name": "stdout",
          "text": [
            "8\n"
          ]
        }
      ]
    },
    {
      "cell_type": "markdown",
      "source": [
        "5.  What are iterators in Python and how do they differ from iterables?\n",
        "  - An iterable is any object that can be looped over (like list, tuple, string).\n",
        "An iterator is an object that produces items from an iterable, one at a time, using __next__() until no items are left.\n",
        "  - Iterable → can be looped but doesn’t remember where it is.\n",
        "  - Iterator → remembers its position and gives next value when asked."
      ],
      "metadata": {
        "id": "QskwoYFgOC-A"
      }
    },
    {
      "cell_type": "code",
      "source": [
        "# Iterable\n",
        "nums = [1, 2, 3]\n",
        "\n",
        "# Iterator\n",
        "it = iter(nums)\n",
        "print(next(it))\n",
        "print(next(it))\n",
        "print(next(it))\n"
      ],
      "metadata": {
        "colab": {
          "base_uri": "https://localhost:8080/"
        },
        "id": "o_6AB5KWOade",
        "outputId": "769dcbb4-f728-4689-d2a1-8f4ada14fa32"
      },
      "execution_count": null,
      "outputs": [
        {
          "output_type": "stream",
          "name": "stdout",
          "text": [
            "1\n",
            "2\n",
            "3\n"
          ]
        }
      ]
    },
    {
      "cell_type": "markdown",
      "source": [
        "6. Explain the concept of generators in Python and how they are defined.\n",
        "  - A generator in Python is a special type of function that produces values one at a time using the yield keyword instead of return.\n",
        "They are useful for handling large data because they don’t store everything in memory, they generate values on the fly."
      ],
      "metadata": {
        "id": "VEcFRB5EOjBw"
      }
    },
    {
      "cell_type": "code",
      "source": [
        "def count_up_to(n):\n",
        "    i = 1\n",
        "    while i <= n:\n",
        "        yield i     # pause and return next value\n",
        "        i += 1\n",
        "\n",
        "gen = count_up_to(3)\n",
        "print(next(gen))  # 1\n",
        "print(next(gen))  # 2\n",
        "print(next(gen))  # 3\n"
      ],
      "metadata": {
        "colab": {
          "base_uri": "https://localhost:8080/"
        },
        "id": "0rTtibDzOsbz",
        "outputId": "7af16310-d6ad-47db-b4c0-0c53e1c07f0b"
      },
      "execution_count": null,
      "outputs": [
        {
          "output_type": "stream",
          "name": "stdout",
          "text": [
            "1\n",
            "2\n",
            "3\n"
          ]
        }
      ]
    },
    {
      "cell_type": "markdown",
      "source": [
        "7.  What are the advantages of using generators over regular functions\n",
        "  - Memory efficient → They don’t store all values at once, only one at a time.\n",
        "\n",
        "  - Lazy evaluation → Values are generated only when needed (saves time).\n",
        "\n",
        "  - Infinite sequences → Can represent endless streams without using extra memory.\n",
        "\n",
        "  - Readable code → Easier to write than building custom iterators."
      ],
      "metadata": {
        "id": "lga1wTGyOwbq"
      }
    },
    {
      "cell_type": "code",
      "source": [
        "# Regular function\n",
        "def squares_list(n):\n",
        "    return [i*i for i in range(n)]\n",
        "\n",
        "print(squares_list(5))\n",
        "\n",
        "\n",
        "# Generator\n",
        "def squares_gen(n):\n",
        "    for i in range(n):\n",
        "        yield i*i\n",
        "\n",
        "for val in squares_gen(5):\n",
        "    print(val)\n"
      ],
      "metadata": {
        "colab": {
          "base_uri": "https://localhost:8080/"
        },
        "id": "KxLix8akO-lz",
        "outputId": "4a5f663f-0ad0-4e72-adac-1b3f096b326e"
      },
      "execution_count": null,
      "outputs": [
        {
          "output_type": "stream",
          "name": "stdout",
          "text": [
            "[0, 1, 4, 9, 16]\n",
            "0\n",
            "1\n",
            "4\n",
            "9\n",
            "16\n"
          ]
        }
      ]
    },
    {
      "cell_type": "markdown",
      "source": [
        "8. What is a lambda function in Python and when is it typically used?\n",
        "  - A lambda function in Python is a small, anonymous (nameless) function defined with the lambda keyword.\n",
        "  When you need a short function for a short time. Commonly used with functions like map(), filter(), sorted()."
      ],
      "metadata": {
        "id": "441Mhh0oPGP8"
      }
    },
    {
      "cell_type": "code",
      "source": [
        "# Normal function\n",
        "def square(x):\n",
        "    return x * x\n",
        "\n",
        "# Lambda function\n",
        "square_lambda = lambda x: x * x\n",
        "print(square_lambda(5))\n",
        "\n",
        "# With filter\n",
        "nums = [1, 2, 3, 4, 5]\n",
        "even = list(filter(lambda n: n % 2 == 0, nums))\n",
        "print(even)\n"
      ],
      "metadata": {
        "colab": {
          "base_uri": "https://localhost:8080/"
        },
        "id": "P2fLgzP2PXdL",
        "outputId": "e30434e6-58de-4265-dcd1-44f772a021d9"
      },
      "execution_count": null,
      "outputs": [
        {
          "output_type": "stream",
          "name": "stdout",
          "text": [
            "25\n",
            "[2, 4]\n"
          ]
        }
      ]
    },
    {
      "cell_type": "markdown",
      "source": [
        "9.  Explain the purpose and usage of the `map()` function in Python\n",
        "  - The map() function in Python applies a given function to each item in an iterable (like list, tuple) and returns a map object. To avoid writing loops when you want to apply the same operation to all elements."
      ],
      "metadata": {
        "id": "4n2-0HGlPb-_"
      }
    },
    {
      "cell_type": "code",
      "source": [
        "nums = [1, 2, 3, 4]\n",
        "\n",
        "# Using map with a function\n",
        "def square(x):\n",
        "    return x * x\n",
        "\n",
        "result = map(square, nums)\n",
        "print(list(result))\n",
        "\n",
        "\n",
        "# Using map with lambda\n",
        "result2 = map(lambda x: x + 10, nums)\n",
        "print(list(result2))\n"
      ],
      "metadata": {
        "colab": {
          "base_uri": "https://localhost:8080/"
        },
        "id": "scmxoac8Pq0z",
        "outputId": "45e0624a-e921-4dcf-a680-8318f507b8f5"
      },
      "execution_count": null,
      "outputs": [
        {
          "output_type": "stream",
          "name": "stdout",
          "text": [
            "[1, 4, 9, 16]\n",
            "[11, 12, 13, 14]\n"
          ]
        }
      ]
    },
    {
      "cell_type": "markdown",
      "source": [
        "10.  What is the difference between `map()`, `reduce()`, and `filter()` functions in Python?\n",
        "  - map() → Applies a function to every item in an iterable.\n",
        "  - filter() → Selects items from an iterable that meet a condition.\n",
        "  - reduce() → Repeatedly applies a function to items, reducing them to a single value.\n",
        "  "
      ],
      "metadata": {
        "id": "Ka0NBT52Pw-z"
      }
    },
    {
      "cell_type": "code",
      "source": [
        "from functools import reduce\n",
        "\n",
        "nums = [1, 2, 3, 4, 5]\n",
        "\n",
        "# map()\n",
        "print(list(map(lambda x: x*x, nums)))\n",
        "\n",
        "# filter()\n",
        "print(list(filter(lambda x: x%2==0, nums)))\n",
        "\n",
        "# reduce()\n",
        "print(reduce(lambda a, b: a+b, nums))\n",
        "\n"
      ],
      "metadata": {
        "colab": {
          "base_uri": "https://localhost:8080/"
        },
        "id": "6Qfi_iZJQBZU",
        "outputId": "5b263bbe-82ee-453d-ffac-52ed80e7904d"
      },
      "execution_count": null,
      "outputs": [
        {
          "output_type": "stream",
          "name": "stdout",
          "text": [
            "[1, 4, 9, 16, 25]\n",
            "[2, 4]\n",
            "15\n"
          ]
        }
      ]
    },
    {
      "cell_type": "markdown",
      "source": [
        "11. Using pen & Paper write the internal mechanism for sum operation using  reduce function on this given\n",
        "list:[47,11,42,13];\n",
        "  - ![WhatsApp Image 2025-08-29 at 20.38.31_fd234868.jpg](data:image/jpeg;base64,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)"
      ],
      "metadata": {
        "id": "t2-NZ5Y_QJeP"
      }
    },
    {
      "cell_type": "markdown",
      "source": [
        "# Practical Questions"
      ],
      "metadata": {
        "id": "Grjiwb1sYPOz"
      }
    },
    {
      "cell_type": "code",
      "source": [
        "# Write a Python function that takes a list of numbers as input and returns the sum of all even numbers in the list.\n",
        "def sum_even(numbers):\n",
        "    total = 0\n",
        "    for num in numbers:\n",
        "        if num % 2 == 0:\n",
        "            total += num\n",
        "    return total\n",
        "\n",
        "# Example\n",
        "nums = [1, 2, 3, 4, 5, 6]\n",
        "print(sum_even(nums))\n"
      ],
      "metadata": {
        "colab": {
          "base_uri": "https://localhost:8080/"
        },
        "id": "TG4J7GCmY4zf",
        "outputId": "da1c16c2-3976-470a-affe-05d07e77c622"
      },
      "execution_count": null,
      "outputs": [
        {
          "output_type": "stream",
          "name": "stdout",
          "text": [
            "12\n"
          ]
        }
      ]
    },
    {
      "cell_type": "code",
      "source": [
        "#  Create a Python function that accepts a string and returns the reverse of that string\n",
        "def reverse_string(text):\n",
        "    return text[::-1]\n",
        "\n",
        "# Example\n",
        "word = \"Python\"\n",
        "print(reverse_string(word))\n"
      ],
      "metadata": {
        "colab": {
          "base_uri": "https://localhost:8080/"
        },
        "id": "Zsb07JTzZGuk",
        "outputId": "ddabe8e7-5f6c-47ac-d706-7e0bff2db40e"
      },
      "execution_count": null,
      "outputs": [
        {
          "output_type": "stream",
          "name": "stdout",
          "text": [
            "nohtyP\n"
          ]
        }
      ]
    },
    {
      "cell_type": "code",
      "source": [
        "#  Implement a Python function that takes a list of integers and returns a new list containing the squares of each number.\n",
        "def square_list(numbers):\n",
        "    return [n*n for n in numbers]   # list comprehension\n",
        "\n",
        "# Example\n",
        "nums = [1, 2, 3, 4, 5]\n",
        "print(square_list(nums))   # [1, 4, 9, 16, 25]\n"
      ],
      "metadata": {
        "colab": {
          "base_uri": "https://localhost:8080/"
        },
        "id": "FVhSaT_9ZPg6",
        "outputId": "fb1a79da-3811-4dae-8029-555a77d2c472"
      },
      "execution_count": null,
      "outputs": [
        {
          "output_type": "stream",
          "name": "stdout",
          "text": [
            "[1, 4, 9, 16, 25]\n"
          ]
        }
      ]
    },
    {
      "cell_type": "code",
      "source": [
        "#  Write a Python function that checks if a given number is prime or not from 1 to 200\n",
        "def is_prime(n):\n",
        "    if n < 2:\n",
        "        return False\n",
        "    for i in range(2, int(n**0.5) + 1):  # check up to sqrt(n)\n",
        "        if n % i == 0:\n",
        "            return False\n",
        "    return True\n",
        "\n",
        "# Example:\n",
        "for num in range(1, 201):\n",
        "    if is_prime(num):\n",
        "        print(num, end=\" \")\n"
      ],
      "metadata": {
        "colab": {
          "base_uri": "https://localhost:8080/"
        },
        "id": "Jl9b7LB3Za6W",
        "outputId": "6de26ace-6421-40f2-d786-7e0a16b508ac"
      },
      "execution_count": null,
      "outputs": [
        {
          "output_type": "stream",
          "name": "stdout",
          "text": [
            "2 3 5 7 11 13 17 19 23 29 31 37 41 43 47 53 59 61 67 71 73 79 83 89 97 101 103 107 109 113 127 131 137 139 149 151 157 163 167 173 179 181 191 193 197 199 "
          ]
        }
      ]
    },
    {
      "cell_type": "code",
      "source": [
        "# Create an iterator class in Python that generates the Fibonacci sequence up to a specified number of terms.\n",
        "class Fibonacci:\n",
        "    def __init__(self, n_terms):\n",
        "        self.n_terms = n_terms\n",
        "        self.count = 0\n",
        "        self.a, self.b = 0, 1\n",
        "\n",
        "    def __iter__(self):\n",
        "        return self\n",
        "\n",
        "    def __next__(self):\n",
        "        if self.count < self.n_terms:\n",
        "            result = self.a\n",
        "            self.a, self.b = self.b, self.a + self.b\n",
        "            self.count += 1\n",
        "            return result\n",
        "        else:\n",
        "            raise StopIteration\n",
        "\n",
        "\n",
        "# Example:\n",
        "fib = Fibonacci(10)\n",
        "for num in fib:\n",
        "    print(num, end=\" \")\n"
      ],
      "metadata": {
        "colab": {
          "base_uri": "https://localhost:8080/"
        },
        "id": "6Au6aw-4Zlos",
        "outputId": "ae3c2cd1-955e-4cc1-ac4f-b2f1a3f0a49d"
      },
      "execution_count": null,
      "outputs": [
        {
          "output_type": "stream",
          "name": "stdout",
          "text": [
            "0 1 1 2 3 5 8 13 21 34 "
          ]
        }
      ]
    },
    {
      "cell_type": "code",
      "source": [
        "#  Write a generator function in Python that yields the powers of 2 up to a given exponent.\n",
        "def powers_of_two(n):\n",
        "    for i in range(n + 1):\n",
        "        yield 2 ** i\n",
        "\n",
        "# Example:\n",
        "for val in powers_of_two(5):\n",
        "    print(val, end=\" \")\n"
      ],
      "metadata": {
        "colab": {
          "base_uri": "https://localhost:8080/"
        },
        "id": "nhc-ufP_ZwX4",
        "outputId": "cf358b1f-7cf6-4e7d-db5e-7b04b438daf3"
      },
      "execution_count": null,
      "outputs": [
        {
          "output_type": "stream",
          "name": "stdout",
          "text": [
            "1 2 4 8 16 32 "
          ]
        }
      ]
    },
    {
      "cell_type": "code",
      "source": [
        "#  Implement a generator function that reads a file line by line and yields each line as a string\n",
        "def read_file_line_by_line(article01):\n",
        "    with open(article01, 'r') as file:\n",
        "        for line in file:\n",
        "            yield line.strip()\n",
        "\n",
        "# Example usage\n",
        "for line in read_file_line_by_line(\"article01.txt\"):\n",
        "    print(line)"
      ],
      "metadata": {
        "id": "-bWVpQwRZ4kb",
        "colab": {
          "base_uri": "https://localhost:8080/"
        },
        "outputId": "5ec3e9b7-7d69-441e-affb-2640d88ef2bd"
      },
      "execution_count": 25,
      "outputs": [
        {
          "output_type": "stream",
          "name": "stdout",
          "text": [
            "(CNN) -- Congress has moved to prevent money from the proposed $825 billion stimulus package from being used for zoos, aquariums, golf courses, swimming pools and casinos, an effort to ensure the bill funds only what it calls the \"highest quality\" infrastructure projects. Restrictions added to the stimulus proposal would keep the money from zoo projects, among other things. \"The purpose of this bill is to direct funding at projects that are primarily and clearly aimed at benefiting the economic conditions of communities and the public at large,\" the bill states. \"The federal government and all other levels of government are directed to look with a skeptical eye at projects that don't meet that test.\" CNN revealed last month that a list of \"ready to go\" stimulus projects endorsed by the U.S. Conference of Mayors included museum and zoo renovations, aquatic centers, skateboard parks and bike and horse paths. One of the zoo projects in the report is a $4.8 million polar bear exhibit at the Providence, Rhode Island, zoo. The House Appropriations Committee added those restrictions last week after criticism from watchdog groups like the National Taxpayers Union, which monitors government spending. \"To the people supporting them, these proposals aren't a joke,\" said Pete Sepp, the group's vice president. \"But to the taxpayers funding them, yes this will be a joke for them, only they won't be laughing.\" The restrictions in the bill appear meant to address reports about some of the projects endorsed by the U.S. mayors, Sepp said. The stimulus bill, known as the American Recovery and Reinvestment Act, has been placed on the congressional fast-track. It could come to a vote in the full House of Representatives as soon as Wednesday, and Democratic leaders have said they aim to get the package to President Obama's desk for enactment by Presidents Day.  Watch Obama say he's optimistic after discussing the bill with GOP leaders » . \"A historical level of transparency, oversight and accountability will help guarantee taxpayer dollars are spent wisely and Americans can see results for their investment,\" Rep. Dave Obey, the Wisconsin Democrat who leads the Appropriations Committee, said in a statement. The committee also added language that would prevent any money given to the state of Illinois from being handled by the state's impeached governor, Rod Blagojevich. Blagojevich faces federal charges accusing him of attempting to trade or sell the U.S. Senate seat vacated by Obama after his November election, and the state Senate began his trial Monday. The governor denies any wrongdoing and has skipped his impeachment trial to proclaim his innocence on the talk-show circuit. The measure sets up project monitoring, including a government-wide recovery program Web site, where all announcements for grant competitions, formula grant allocations and competitive grant awards must be listed. In addition, government agencies must publish on the site, \"a description of all infrastructure projects, and the total cost and the justification for using stimulus money.\" The strict rules require that the notification include \"the name of a person to contact at the entity if there are concerns with the investment and an e-mail address for the federal official in each agency whom the public can contact,\" the bill states. \"Also included within the notification must be a certification from the mayor or governor or other chief executive, as appropriate, that the investment has received the full review and vetting required by law and that they accept responsibility that this investment is an appropriate use of taxpayer dollars.\" A Recovery Act Accountability and Transparency Board will be created \"to review management of recovery dollars and provide early earning of problems,\" according to a summary of the bill provided by the appropriations committee. The board will include inspectors general and deputy cabinet secretaries. The stimulus package is already being taken up by key committees in the Senate, where Majority Leader Harry Reid -- from casino-heavy Nevada -- said he is not concerned about the House restrictions on money going to casinos. \"Casinos are a huge part of Nevada's economy and create a lot of jobs,\" Reid told CNN on Tuesday. \"But none of the spending in this bill is earmarked for any casino, so this provision is largely symbolic.\"\n"
          ]
        }
      ]
    },
    {
      "cell_type": "code",
      "source": [
        "#  Use a lambda function in Python to sort a list of tuples based on the second element of each tuple.\n",
        "\n",
        "# List of tuples\n",
        "data = [(1, 4), (3, 1), (5, 9), (2, 6)]\n",
        "\n",
        "# Sort by second element using lambda\n",
        "sorted_data = sorted(data, key=lambda x: x[1])\n",
        "\n",
        "print(sorted_data)\n"
      ],
      "metadata": {
        "colab": {
          "base_uri": "https://localhost:8080/"
        },
        "id": "5fqPeZG3dcHG",
        "outputId": "27a1236c-2109-4cb3-c720-ead8b573d391"
      },
      "execution_count": 26,
      "outputs": [
        {
          "output_type": "stream",
          "name": "stdout",
          "text": [
            "[(3, 1), (1, 4), (2, 6), (5, 9)]\n"
          ]
        }
      ]
    },
    {
      "cell_type": "code",
      "source": [
        "#  Write a Python program that uses `map()` to convert a list of temperatures from Celsius to Fahrenheit.\n",
        "celsius = [0, 20, 30, 40, 100]\n",
        "\n",
        "fahrenheit = list(map(lambda c: (c * 9/5) + 32, celsius))\n",
        "\n",
        "print(fahrenheit)\n"
      ],
      "metadata": {
        "colab": {
          "base_uri": "https://localhost:8080/"
        },
        "id": "6Fg94R43djyl",
        "outputId": "62d3886f-d275-41d3-b452-8ff860694e84"
      },
      "execution_count": 27,
      "outputs": [
        {
          "output_type": "stream",
          "name": "stdout",
          "text": [
            "[32.0, 68.0, 86.0, 104.0, 212.0]\n"
          ]
        }
      ]
    },
    {
      "cell_type": "code",
      "source": [
        "#  Create a Python program that uses `filter()` to remove all the vowels from a given string.\n",
        "def remove_vowels(text):\n",
        "    vowels = \"aeiouAEIOU\"\n",
        "    return \"\".join(filter(lambda ch: ch not in vowels, text))\n",
        "\n",
        "# Example\n",
        "s = \"Hello Python World\"\n",
        "print(remove_vowels(s))\n"
      ],
      "metadata": {
        "colab": {
          "base_uri": "https://localhost:8080/"
        },
        "id": "f9df96m3dxGA",
        "outputId": "2ce23dc1-8dbb-4dd1-850c-e7926304c041"
      },
      "execution_count": 28,
      "outputs": [
        {
          "output_type": "stream",
          "name": "stdout",
          "text": [
            "Hll Pythn Wrld\n"
          ]
        }
      ]
    },
    {
      "cell_type": "code",
      "source": [
        "# Write a Python program, which returns a list with 2-tuples. Each tuple consists of the order number and the product of the price per item and the quantity. The product should be increased by 10,- € if the value of the order is smaller than 100,00 €.\n",
        "# Write a Python program using lambda and map.\n",
        "# Data: [Order Number, Book Title and Author, Quantity, Price per Item]\n",
        "orders = [\n",
        "    [34587, \"Learning Python, Mark Lutz\", 4, 40.95],\n",
        "    [98762, \"Programming Python, Mark Lutz\", 5, 56.80],\n",
        "    [77226, \"Head First Python, Paul Barry\", 3, 32.95],\n",
        "    [88112, \"Einführung in Python3, Bernd Klein\", 3, 24.99]\n",
        "]\n",
        "\n",
        "# Program using map and lambda\n",
        "result = list(map(lambda order: (\n",
        "    order[0],                                     # order number\n",
        "    order[2] * order[3] if order[2] * order[3] >= 100\n",
        "    else order[2] * order[3] + 10                 # add 10 if < 100\n",
        "), orders))\n",
        "\n",
        "print(result)\n"
      ],
      "metadata": {
        "colab": {
          "base_uri": "https://localhost:8080/"
        },
        "id": "-5Ggv5dweWYx",
        "outputId": "ca9a3cee-e25e-4305-a275-c9fccc97da7a"
      },
      "execution_count": 29,
      "outputs": [
        {
          "output_type": "stream",
          "name": "stdout",
          "text": [
            "[(34587, 163.8), (98762, 284.0), (77226, 108.85000000000001), (88112, 84.97)]\n"
          ]
        }
      ]
    }
  ]
}