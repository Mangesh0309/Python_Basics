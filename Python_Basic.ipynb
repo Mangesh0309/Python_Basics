{
  "nbformat": 4,
  "nbformat_minor": 0,
  "metadata": {
    "colab": {
      "provenance": []
    },
    "kernelspec": {
      "name": "python3",
      "display_name": "Python 3"
    },
    "language_info": {
      "name": "python"
    }
  },
  "cells": [
    {
      "cell_type": "code",
      "execution_count": null,
      "metadata": {
        "id": "368gwmR7q6vP"
      },
      "outputs": [],
      "source": []
    },
    {
      "cell_type": "markdown",
      "source": [
        "# Python Basics\n",
        "1. What is Python, and why is it popular?\n",
        "  - Python is a high-level, interpreted, and general-purpose programming\n",
        "        language.\n",
        "  - It supports multiple programming paradigms:\n",
        "\n",
        "  - Procedural (step-by-step)\n",
        "\n",
        "  - Object-Oriented (using classes/objects)\n",
        "\n",
        "  - Functional (using functions, lambda, map, filter, etc.)\n",
        "  - python is popular because of its simple and readable syntax , Interpreted language, Large standard library, versatility, community support and integration capabilities.\n",
        "  "
      ],
      "metadata": {
        "id": "XaWyWUdItKd8"
      }
    },
    {
      "cell_type": "markdown",
      "source": [],
      "metadata": {
        "id": "gWegyTNjtI3n"
      }
    },
    {
      "cell_type": "markdown",
      "source": [
        "2. What is an interpreter in Python?\n",
        "  - an Interpreter in python is a program that executes Python code line by line insted of compiling the whole program all at once.\n",
        "\n",
        "  "
      ],
      "metadata": {
        "id": "0gsxQ761vfWH"
      }
    },
    {
      "cell_type": "markdown",
      "source": [],
      "metadata": {
        "id": "CSmETb5Yy0Dq"
      }
    },
    {
      "cell_type": "markdown",
      "source": [
        "3. What are pre-defined keywords in Python?\n",
        "  - Pre-defined keywords in Python are reserved words that have a special meaning in the language.\n",
        "  - examples: if, else, true, false, def, class, try, except, return, and, or, not, import, from, as, etc.\n",
        "  "
      ],
      "metadata": {
        "id": "0bVb6jdkwKqW"
      }
    },
    {
      "cell_type": "markdown",
      "source": [],
      "metadata": {
        "id": "mMkORW4Ps423"
      }
    },
    {
      "cell_type": "markdown",
      "source": [
        "4. Can keywords be used as variable names?\n",
        "  - Keywords in Python cannot be used as variable names because they are reserved words with predefined meanings in the language. Attempting to use them as identifiers will result in a SyntaxError.\n"
      ],
      "metadata": {
        "id": "EXr_hIKwwu4O"
      }
    },
    {
      "cell_type": "markdown",
      "source": [
        "5. What is mutability in Python?\n",
        "  - Mutability in Python refers to the ability of an object to change its value after creation. Mutable objects like lists, dictionaries, and sets can be modified, while immutable objects like strings, tuples, and integers cannot be changed once created. For immutable objects, any modification creates a new object in memory."
      ],
      "metadata": {
        "id": "AQPz9g5RxBFw"
      }
    },
    {
      "cell_type": "markdown",
      "source": [
        "6. Why are lists mutable, but tuples are immutable?\n",
        "  - Lists in Python are mutable because they are meant to store dynamic collections of items that can be modified, added, or removed. Tuples, on the other hand, are immutable because they are designed to store fixed collections of data, making them faster, memory-efficient, and hashable so they can be used as dictionary keys."
      ],
      "metadata": {
        "id": "d4hf7JW_xSpL"
      }
    },
    {
      "cell_type": "markdown",
      "source": [
        "7. What is the difference between “==” and “is” operators in Python?\n",
        "  - The == operator checks whether two objects have the same value, while the is operator checks whether they refer to the same object in memory. Example: two lists with the same values will return True with == but False with is, since they are stored in different memory locations."
      ],
      "metadata": {
        "id": "61agFJ5zxliA"
      }
    },
    {
      "cell_type": "markdown",
      "source": [
        "8.  What are logical operators in Python?\n",
        "  - Logical operators in Python are used to combine conditions and return a Boolean value. The three logical operators are:\n",
        "\n",
        "  - and → True if both conditions are true.\n",
        "\n",
        "  - or → True if at least one condition is true.\n",
        "\n",
        "  - not → Reverses the result of the condition."
      ],
      "metadata": {
        "id": "1r522tttx2dk"
      }
    },
    {
      "cell_type": "markdown",
      "source": [
        "9. What is type casting in Python?\n",
        "  - Type casting in Python is the process of converting one data type into another.\n",
        "   It is of two types:\n",
        "\n",
        "  - Implicit casting and Explicit casting"
      ],
      "metadata": {
        "id": "9SZOZMTDyLMF"
      }
    },
    {
      "cell_type": "markdown",
      "source": [
        "10. What is the difference between implicit and explicit type casting?\n",
        "  - Implicit Type Casting: Performed automatically by Python. Converts smaller data type into a larger compatible type to avoid data loss.\n",
        "  - Explicit Type Casting: Done manually by the programmer. Uses built-in functions like int(), float(), str(), list(), tuple(), etc.\n",
        "  "
      ],
      "metadata": {
        "id": "RWucIGODyqPa"
      }
    },
    {
      "cell_type": "markdown",
      "source": [
        "11.  What is the purpose of conditional statements in Python?\n",
        "  - The purpose of conditional statements in Python is to control the flow of a program and make decisions based on conditions. They allow specific blocks of code to execute only when certain conditions are true, enabling branching logic. Python provides if, if-else, and if-elif-else statements for decision-making."
      ],
      "metadata": {
        "id": "f0-F6Qxmzoyv"
      }
    },
    {
      "cell_type": "markdown",
      "source": [
        "12.  How does the elif statement work?\n",
        "  - The elif statement in Python is used to check multiple conditions in sequence. If the if condition is false, Python checks the elif conditions one by one until one is true. When a true condition is found, its block executes, and the remaining conditions are skipped. If none are true, the else block executes."
      ],
      "metadata": {
        "id": "xJAetT9Az7DZ"
      }
    },
    {
      "cell_type": "markdown",
      "source": [
        "13. What is the difference between for and while loops?\n",
        "  - for loop: Used when you know in advance how many times you want to repeat a block. It Iterates over a sequence. It Automatically ends after the sequence is exhausted.\n",
        "  - while loop: Used when you do not know in advance how many times to run the loop. It Repeats a block as long as a condition is True. It may run indefinitely if the condition never becomes False."
      ],
      "metadata": {
        "id": "wSunV6Oq0JZ4"
      }
    },
    {
      "cell_type": "markdown",
      "source": [
        "14. Describe a scenario where a while loop is more suitable than a for loop.\n",
        "  - A while loop is more suitable when the number of iterations is not known beforehand and depends on a condition. For example, in an ATM system, the program can keep asking for the PIN until the user enters the correct one or exceeds 3 attempts. This is better handled with a while loop than a for loop."
      ],
      "metadata": {
        "id": "YpE04MxF0wJN"
      }
    },
    {
      "cell_type": "code",
      "source": [
        "#Write a Python program to print \"Hello, World!\"\n",
        "print (\"Hello, World!\")\n"
      ],
      "metadata": {
        "colab": {
          "base_uri": "https://localhost:8080/"
        },
        "id": "jo2KCO811EsR",
        "outputId": "075b0af4-aae1-4b31-fb22-558fef9f447b"
      },
      "execution_count": 1,
      "outputs": [
        {
          "output_type": "stream",
          "name": "stdout",
          "text": [
            "Hello, World!\n"
          ]
        }
      ]
    },
    {
      "cell_type": "code",
      "source": [
        "#Write a Python program that displays your name and age\n",
        "\n",
        "name = \"Mangesh\"\n",
        "age = 21\n",
        "\n",
        "print(\"My name is\", name)\n",
        "print(\"I am\", age, \"years old\")\n"
      ],
      "metadata": {
        "colab": {
          "base_uri": "https://localhost:8080/"
        },
        "id": "26I41fOi1Ulx",
        "outputId": "3f9dc177-e9e9-41e2-af56-3908c4561e60"
      },
      "execution_count": 2,
      "outputs": [
        {
          "output_type": "stream",
          "name": "stdout",
          "text": [
            "My name is Mangesh\n",
            "I am 21 years old\n"
          ]
        }
      ]
    },
    {
      "cell_type": "code",
      "source": [
        "# Write code to print all the pre-defined keywords in Python using the keyword library\n",
        "import keyword\n",
        "\n",
        "print(\"Python Keywords are:\\n\")\n",
        "print(keyword.kwlist)\n",
        "print(\"\\nTotal number of keywords:\", len(keyword.kwlist))"
      ],
      "metadata": {
        "colab": {
          "base_uri": "https://localhost:8080/"
        },
        "id": "L96-wufe1mQU",
        "outputId": "dc5218ba-6456-4db8-b782-b63882e966ce"
      },
      "execution_count": 3,
      "outputs": [
        {
          "output_type": "stream",
          "name": "stdout",
          "text": [
            "Python Keywords are:\n",
            "\n",
            "['False', 'None', 'True', 'and', 'as', 'assert', 'async', 'await', 'break', 'class', 'continue', 'def', 'del', 'elif', 'else', 'except', 'finally', 'for', 'from', 'global', 'if', 'import', 'in', 'is', 'lambda', 'nonlocal', 'not', 'or', 'pass', 'raise', 'return', 'try', 'while', 'with', 'yield']\n",
            "\n",
            "Total number of keywords: 35\n"
          ]
        }
      ]
    },
    {
      "cell_type": "code",
      "source": [
        "#  Write a program that checks if a given word is a Python keyword.\n",
        "import keyword\n",
        "\n",
        "word = input(\"Enter a word: \")\n",
        "\n",
        "if keyword.iskeyword(word):\n",
        "    print(f\"'{word}' is a Python keyword.\")\n",
        "else:\n",
        "    print(f\"'{word}' is NOT a Python keyword.\")"
      ],
      "metadata": {
        "colab": {
          "base_uri": "https://localhost:8080/"
        },
        "id": "PHkRbo3b13mi",
        "outputId": "e1aa582d-bdb5-438b-e1cb-b46b5a1d977a"
      },
      "execution_count": 4,
      "outputs": [
        {
          "output_type": "stream",
          "name": "stdout",
          "text": [
            "Enter a word: def\n",
            "'def' is a Python keyword.\n"
          ]
        }
      ]
    },
    {
      "cell_type": "code",
      "source": [
        "# Create a list and tuple in Python, and demonstrate how attempting to change an element works differently for each\n",
        "my_list = [10, 20, 30, 40]\n",
        "my_tuple = (10, 20, 30, 40)\n",
        "\n",
        "print(\"Original List:\", my_list)\n",
        "print(\"Original Tuple:\", my_tuple)\n",
        "\n",
        "my_list[2] = 99\n",
        "print(\"\\nList after modification:\", my_list)\n",
        "\n",
        "try:\n",
        "    my_tuple[2] = 99\n",
        "except TypeError as e:\n",
        "    print(\"\\nError when modifying tuple:\", e)"
      ],
      "metadata": {
        "colab": {
          "base_uri": "https://localhost:8080/"
        },
        "id": "bJD9Qsfm2DgU",
        "outputId": "a4f898db-7db6-4e2a-bff6-aa0891e2fbb1"
      },
      "execution_count": 5,
      "outputs": [
        {
          "output_type": "stream",
          "name": "stdout",
          "text": [
            "Original List: [10, 20, 30, 40]\n",
            "Original Tuple: (10, 20, 30, 40)\n",
            "\n",
            "List after modification: [10, 20, 99, 40]\n",
            "\n",
            "Error when modifying tuple: 'tuple' object does not support item assignment\n"
          ]
        }
      ]
    },
    {
      "cell_type": "code",
      "source": [
        "# Write a function to demonstrate the behavior of mutable and immutable arguments.\n",
        "def modify_values(num, my_list):\n",
        "    num = num + 10\n",
        "\n",
        "    my_list.append(99)\n",
        "\n",
        "    print(\"\\nInside function:\")\n",
        "    print(\"num =\", num)\n",
        "    print(\"my_list =\", my_list)\n",
        "\n",
        "number = 5\n",
        "numbers_list = [1, 2, 3]\n",
        "\n",
        "print(\"Before function call:\")\n",
        "print(\"number =\", number)\n",
        "print(\"numbers_list =\", numbers_list)\n",
        "\n",
        "modify_values(number, numbers_list)\n",
        "\n",
        "print(\"\\nAfter function call:\")\n",
        "print(\"number =\", number)\n",
        "print(\"numbers_list =\", numbers_list)"
      ],
      "metadata": {
        "colab": {
          "base_uri": "https://localhost:8080/"
        },
        "id": "nOOeO9Sl2Wqr",
        "outputId": "e9e83129-76aa-45d7-82af-20123a39dbb7"
      },
      "execution_count": 6,
      "outputs": [
        {
          "output_type": "stream",
          "name": "stdout",
          "text": [
            "Before function call:\n",
            "number = 5\n",
            "numbers_list = [1, 2, 3]\n",
            "\n",
            "Inside function:\n",
            "num = 15\n",
            "my_list = [1, 2, 3, 99]\n",
            "\n",
            "After function call:\n",
            "number = 5\n",
            "numbers_list = [1, 2, 3, 99]\n"
          ]
        }
      ]
    },
    {
      "cell_type": "code",
      "source": [
        "#  Write a program that performs basic arithmetic operations on two user-input numbers\n",
        "a = float(input(\"Enter first number: \"))\n",
        "b = float(input(\"Enter second number: \"))\n",
        "\n",
        "print(\"\\nResults of Arithmetic Operations:\")\n",
        "print(f\"Addition: {a} + {b} = {a + b}\")\n",
        "print(f\"Subtraction: {a} - {b} = {a - b}\")\n",
        "print(f\"Multiplication: {a} * {b} = {a * b}\")\n",
        "\n",
        "if b != 0:\n",
        "    print(f\"Division: {a} / {b} = {a / b}\")\n",
        "else:\n",
        "    print(\"Division: Cannot divide by zero!\")\n"
      ],
      "metadata": {
        "colab": {
          "base_uri": "https://localhost:8080/"
        },
        "id": "DRWfzOYA2lDc",
        "outputId": "5e0f456b-d657-4586-b784-fc15cdd07b5f"
      },
      "execution_count": 7,
      "outputs": [
        {
          "output_type": "stream",
          "name": "stdout",
          "text": [
            "Enter first number: 3\n",
            "Enter second number: 9\n",
            "\n",
            "Results of Arithmetic Operations:\n",
            "Addition: 3.0 + 9.0 = 12.0\n",
            "Subtraction: 3.0 - 9.0 = -6.0\n",
            "Multiplication: 3.0 * 9.0 = 27.0\n",
            "Division: 3.0 / 9.0 = 0.3333333333333333\n"
          ]
        }
      ]
    },
    {
      "cell_type": "code",
      "source": [
        "# Write a program to demonstrate the use of logical operators\n",
        "a = 10\n",
        "b = 20\n",
        "\n",
        "print(\"Values: a =\", a, \", b =\", b)\n",
        "\n",
        "# Logical AND\n",
        "print(\"\\nLogical AND:\")\n",
        "print(\"a > 5 and b > 15:\", a > 5 and b > 15)\n",
        "print(\"a > 15 and b > 15:\", a > 15 and b > 15)\n",
        "\n",
        "# Logical OR\n",
        "print(\"\\nLogical OR:\")\n",
        "print(\"a > 5 or b > 25:\", a > 5 or b > 25)\n",
        "print(\"a > 15 or b > 25:\", a > 15 or b > 25)\n",
        "\n",
        "# Logical NOT\n",
        "print(\"\\nLogical NOT:\")\n",
        "print(\"not(a > 5):\", not(a > 5))\n",
        "print(\"not(b < 15):\", not(b < 15))"
      ],
      "metadata": {
        "colab": {
          "base_uri": "https://localhost:8080/"
        },
        "id": "eQQR7WS727kv",
        "outputId": "f4b90806-f0cf-4895-d2eb-d5bf4c7e30b2"
      },
      "execution_count": 8,
      "outputs": [
        {
          "output_type": "stream",
          "name": "stdout",
          "text": [
            "Values: a = 10 , b = 20\n",
            "\n",
            "Logical AND:\n",
            "a > 5 and b > 15: True\n",
            "a > 15 and b > 15: False\n",
            "\n",
            "Logical OR:\n",
            "a > 5 or b > 25: True\n",
            "a > 15 or b > 25: False\n",
            "\n",
            "Logical NOT:\n",
            "not(a > 5): False\n",
            "not(b < 15): True\n"
          ]
        }
      ]
    },
    {
      "cell_type": "code",
      "source": [
        "# . Write a Python program to convert user input from string to integer, float, and boolean types.\n",
        "user_input = input(\"Enter something: \")\n",
        "\n",
        "print(\"\\nOriginal input:\")\n",
        "print(\"As String:\", user_input, type(user_input))\n",
        "\n",
        "# Convert to integer\n",
        "try:\n",
        "    int_val = int(user_input)\n",
        "    print(\"As Integer:\", int_val, type(int_val))\n",
        "except ValueError:\n",
        "    print(\"Cannot convert to Integer!\")\n",
        "\n",
        "# Convert to float\n",
        "try:\n",
        "    float_val = float(user_input)\n",
        "    print(\"As Float:\", float_val, type(float_val))\n",
        "except ValueError:\n",
        "    print(\"Cannot convert to Float!\")\n",
        "\n",
        "bool_val = bool(user_input)\n",
        "print(\"As Boolean:\", bool_val, type(bool_val))"
      ],
      "metadata": {
        "colab": {
          "base_uri": "https://localhost:8080/"
        },
        "id": "uN92jHvw3N9j",
        "outputId": "99c59050-6758-4edf-a4c7-11d523a9e4b0"
      },
      "execution_count": 9,
      "outputs": [
        {
          "output_type": "stream",
          "name": "stdout",
          "text": [
            "Enter something: Hello\n",
            "\n",
            "Original input:\n",
            "As String: Hello <class 'str'>\n",
            "Cannot convert to Integer!\n",
            "Cannot convert to Float!\n",
            "As Boolean: True <class 'bool'>\n"
          ]
        }
      ]
    },
    {
      "cell_type": "code",
      "source": [
        "#Write code to demonstrate type casting with list elements.\n",
        "string_list = [\"10\", \"20\", \"30\", \"40\"]\n",
        "\n",
        "print(\"Original List (Strings):\", string_list)\n",
        "\n",
        "# Convert each element to integer\n",
        "int_list = [int(x) for x in string_list]\n",
        "print(\"Converted to Integers:\", int_list)\n",
        "\n",
        "# Convert each element to float\n",
        "float_list = [float(x) for x in string_list]\n",
        "print(\"Converted to Floats:\", float_list)\n",
        "\n",
        "# Convert each element to boolean\n",
        "bool_list = [bool(x) for x in string_list]\n",
        "print(\"Converted to Booleans:\", bool_list)\n"
      ],
      "metadata": {
        "colab": {
          "base_uri": "https://localhost:8080/"
        },
        "id": "R8g-Q6_C3274",
        "outputId": "03391909-f7be-439c-934e-3581150bd8d9"
      },
      "execution_count": 10,
      "outputs": [
        {
          "output_type": "stream",
          "name": "stdout",
          "text": [
            "Original List (Strings): ['10', '20', '30', '40']\n",
            "Converted to Integers: [10, 20, 30, 40]\n",
            "Converted to Floats: [10.0, 20.0, 30.0, 40.0]\n",
            "Converted to Booleans: [True, True, True, True]\n"
          ]
        }
      ]
    },
    {
      "cell_type": "code",
      "source": [
        "#Write a program that checks if a number is positive, negative, or zero.\n",
        "num = float(input(\"Enter a number: \"))\n",
        "if num > 0:\n",
        "    print(f\"{num} is Positive.\")\n",
        "elif num < 0:\n",
        "    print(f\"{num} is Negative.\")\n",
        "else:\n",
        "    print(\"The number is Zero.\")"
      ],
      "metadata": {
        "colab": {
          "base_uri": "https://localhost:8080/"
        },
        "id": "bFGomga24Lvx",
        "outputId": "2c9d77c5-c157-4e6b-f1b2-1c3299502708"
      },
      "execution_count": 11,
      "outputs": [
        {
          "output_type": "stream",
          "name": "stdout",
          "text": [
            "Enter a number: 349\n",
            "349.0 is Positive.\n"
          ]
        }
      ]
    },
    {
      "cell_type": "code",
      "source": [
        "#Write a for loop to print numbers from 1 to 10.\n",
        "for i in range(1, 11):\n",
        "    print(i)\n",
        ""
      ],
      "metadata": {
        "colab": {
          "base_uri": "https://localhost:8080/"
        },
        "id": "Ijoz5s3a5FUi",
        "outputId": "98e66b35-0e38-444f-ca49-21cdb4453180"
      },
      "execution_count": 12,
      "outputs": [
        {
          "output_type": "stream",
          "name": "stdout",
          "text": [
            "1\n",
            "2\n",
            "3\n",
            "4\n",
            "5\n",
            "6\n",
            "7\n",
            "8\n",
            "9\n",
            "10\n"
          ]
        }
      ]
    },
    {
      "cell_type": "code",
      "source": [
        "# Write a Python program to find the sum of all even numbers between 1 and 50.\n",
        "sum_even = 0\n",
        "\n",
        "for i in range(1, 51):\n",
        "    if i % 2 == 0:   # check if even\n",
        "        sum_even += i\n",
        "\n",
        "print(\"The sum of even numbers from 1 to 50 is:\", sum_even)"
      ],
      "metadata": {
        "colab": {
          "base_uri": "https://localhost:8080/"
        },
        "id": "mlZTuh7e5OEE",
        "outputId": "8d9d22f0-81fa-433e-aee4-730ce6a0d881"
      },
      "execution_count": 13,
      "outputs": [
        {
          "output_type": "stream",
          "name": "stdout",
          "text": [
            "The sum of even numbers from 1 to 50 is: 650\n"
          ]
        }
      ]
    },
    {
      "cell_type": "code",
      "source": [
        "#Write a program to reverse a string using a while loop.\n",
        "text = input(\"Enter a string: \")\n",
        "\n",
        "reversed_text = \"\"\n",
        "i = len(text) - 1\n",
        "while i >= 0:\n",
        "    reversed_text += text[i]\n",
        "    i -= 1\n",
        "\n",
        "print(\"Reversed string:\", reversed_text)\n"
      ],
      "metadata": {
        "colab": {
          "base_uri": "https://localhost:8080/"
        },
        "id": "333Muf2U5X-H",
        "outputId": "7bcef247-ee2f-43b6-93ad-b00f00dc7fb8"
      },
      "execution_count": 14,
      "outputs": [
        {
          "output_type": "stream",
          "name": "stdout",
          "text": [
            "Enter a string: HelloWorld!\n",
            "Reversed string: !dlroWolleH\n"
          ]
        }
      ]
    },
    {
      "cell_type": "code",
      "source": [
        "# Write a Python program to calculate the factorial of a number provided by the user using a while loop\n",
        "num = int(input(\"Enter a number: \"))\n",
        "\n",
        "factorial = 1\n",
        "i = 1\n",
        "\n",
        "while i <= num:\n",
        "    factorial *= i\n",
        "    i += 1\n",
        "\n",
        "print(f\"The factorial of {num} is: {factorial}\")"
      ],
      "metadata": {
        "colab": {
          "base_uri": "https://localhost:8080/"
        },
        "id": "f8QcNw3a5s3F",
        "outputId": "eabc70ae-2fd4-4e7a-8c8b-7134986de891"
      },
      "execution_count": 16,
      "outputs": [
        {
          "output_type": "stream",
          "name": "stdout",
          "text": [
            "Enter a number: 5\n",
            "The factorial of 5 is: 120\n"
          ]
        }
      ]
    }
  ]
}